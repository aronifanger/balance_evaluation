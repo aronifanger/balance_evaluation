{
 "cells": [
  {
   "cell_type": "markdown",
   "metadata": {},
   "source": [
    "# Cálculo do balanço diário"
   ]
  },
  {
   "cell_type": "markdown",
   "metadata": {},
   "source": [
    "## 1. Leitura dos dados e verificação de inconsistências"
   ]
  },
  {
   "cell_type": "code",
   "execution_count": 3,
   "metadata": {},
   "outputs": [],
   "source": [
    "import pandas as pd\n",
    "\n",
    "# reading databases\n",
    "mvto = pd.read_excel(\"MovtoITEM.xlsx\")\n",
    "sldo = pd.read_excel(\"SaldoITEM.xlsx\")\n",
    "\n",
    "# getting reference dates\n",
    "start_date, end_date = sldo[\"data_inicio\"].min(), sldo[\"data_final\"].min()\n",
    "# stock reference date is one day before first movement\n",
    "stock_ref_date = start_date - pd.DateOffset(days=1)\n",
    "\n",
    "# filtering period\n",
    "mvto = mvto[(mvto[\"data_lancamento\"]>=start_date)&(mvto[\"data_lancamento\"]<=end_date)].reset_index(drop=True)\n",
    "\n",
    "if sldo.shape[0] != len(sldo[\"item\"].unique()):\n",
    "    print(\"There are duplicated items in balance table.\")\n",
    "if sldo.shape[0] != len(mvto[\"item\"].unique()):\n",
    "    print(\"The items from balance table are different from movement table items.\")"
   ]
  },
  {
   "cell_type": "markdown",
   "metadata": {},
   "source": [
    "## 2. Criação da grade de resultados\n",
    "\n",
    "Caso existam dias onde não houve movimentação para determinados items, é necessário que o saldo inicial e final sejam iguais. Esta tabela garante que para todo par (item, data) haverá um registro."
   ]
  },
  {
   "cell_type": "code",
   "execution_count": 4,
   "metadata": {},
   "outputs": [
    {
     "data": {
      "text/html": [
       "<div>\n",
       "<style scoped>\n",
       "    .dataframe tbody tr th:only-of-type {\n",
       "        vertical-align: middle;\n",
       "    }\n",
       "\n",
       "    .dataframe tbody tr th {\n",
       "        vertical-align: top;\n",
       "    }\n",
       "\n",
       "    .dataframe thead th {\n",
       "        text-align: right;\n",
       "    }\n",
       "</style>\n",
       "<table border=\"1\" class=\"dataframe\">\n",
       "  <thead>\n",
       "    <tr style=\"text-align: right;\">\n",
       "      <th></th>\n",
       "      <th>item</th>\n",
       "      <th>data_lancamento</th>\n",
       "    </tr>\n",
       "  </thead>\n",
       "  <tbody>\n",
       "    <tr>\n",
       "      <td>2442</td>\n",
       "      <td>82.60.353-0</td>\n",
       "      <td>2012-10-23</td>\n",
       "    </tr>\n",
       "    <tr>\n",
       "      <td>4931</td>\n",
       "      <td>81.30.019-4</td>\n",
       "      <td>2013-01-17</td>\n",
       "    </tr>\n",
       "    <tr>\n",
       "      <td>5163</td>\n",
       "      <td>81.30.019-4</td>\n",
       "      <td>2013-01-25</td>\n",
       "    </tr>\n",
       "    <tr>\n",
       "      <td>905</td>\n",
       "      <td>82.60.353-0</td>\n",
       "      <td>2012-08-31</td>\n",
       "    </tr>\n",
       "    <tr>\n",
       "      <td>2684</td>\n",
       "      <td>74.62.201-1</td>\n",
       "      <td>2012-10-31</td>\n",
       "    </tr>\n",
       "  </tbody>\n",
       "</table>\n",
       "</div>"
      ],
      "text/plain": [
       "             item data_lancamento\n",
       "2442  82.60.353-0      2012-10-23\n",
       "4931  81.30.019-4      2013-01-17\n",
       "5163  81.30.019-4      2013-01-25\n",
       "905   82.60.353-0      2012-08-31\n",
       "2684  74.62.201-1      2012-10-31"
      ]
     },
     "execution_count": 4,
     "metadata": {},
     "output_type": "execute_result"
    }
   ],
   "source": [
    "# generating final grid\n",
    "all_items = mvto.item.unique()\n",
    "all_days = [stock_ref_date + pd.DateOffset(days=i) for i in range((end_date - stock_ref_date).days + 1)]\n",
    "all_rows = [(item, date) for date in all_days for item in all_items]\n",
    "stock_evolution = pd.DataFrame(all_rows, columns=[\"item\", \"data_lancamento\"])\n",
    "stock_evolution.sample(5)"
   ]
  },
  {
   "cell_type": "markdown",
   "metadata": {},
   "source": [
    "## 3. Inclusão do saldo na tabela de movimentações\n",
    "\n",
    "Para fins de cálculo, o saldo será inserido com data referente a um dia antes da primeira movimentação."
   ]
  },
  {
   "cell_type": "code",
   "execution_count": 5,
   "metadata": {},
   "outputs": [],
   "source": [
    "# merging balance table with movement table\n",
    "first_mvto = sldo[[\"item\",\"data_inicio\",\"qtd_inicio\",\"valor_inicio\"]].copy()\n",
    "first_mvto = first_mvto.rename({\"data_inicio\":\"data_lancamento\", \n",
    "                                \"qtd_inicio\":\"quantidade\", \n",
    "                                \"valor_inicio\":\"valor\" }, axis=\"columns\")\n",
    "first_mvto[\"tipo_movimento\"] = \"Ent\"\n",
    "first_mvto = first_mvto[[\"item\",\"tipo_movimento\",\"data_lancamento\",\"quantidade\",\"valor\"]]\n",
    "first_mvto[\"data_lancamento\"] = stock_ref_date\n",
    "mvto_updated = pd.concat([first_mvto, mvto]).reset_index(drop=True)"
   ]
  },
  {
   "cell_type": "markdown",
   "metadata": {},
   "source": [
    "## 4. Agrupamento dos dados\n",
    "\n",
    "Na etapa de agrupamento, os valores são somados agrupando-se pelo par (item, dia, tipo) em seguida as movimentações de saída são subtraídas das movimentações de entrada, a fim de obter o resultado do dia. \n",
    "Após isto, a tabela final é mesclada com a grade de resultados e os dias onde não houveram movimentações são preenchidos com zero."
   ]
  },
  {
   "cell_type": "code",
   "execution_count": 6,
   "metadata": {},
   "outputs": [],
   "source": [
    "# grouping movements by (item, date, movement_type) touple\n",
    "grouped_data = mvto_updated.groupby([\"item\", \"data_lancamento\", \"tipo_movimento\"], as_index=False)\\\n",
    "                .agg({\"quantidade\":sum, \"valor\":sum})\n",
    "# putting movement type in different columns\n",
    "agg_data = pd.pivot_table(grouped_data, values=[\"quantidade\", \"valor\"], \n",
    "                          index=[\"item\", \"data_lancamento\"], \n",
    "                          columns=[\"tipo_movimento\"], \n",
    "                          aggfunc=sum).reset_index()\n",
    "agg_data.columns = [c for c, _ in agg_data.columns[:2]] + [\"{}_{}\".format(c,d) for c, d in agg_data.columns[2:]]\n",
    "agg_data = agg_data.rename({\"quantidade_Ent\":\"quantidade_entrada\",\n",
    "                            \"quantidade_Sai\":\"quantidade_saida\",\n",
    "                            \"valor_Ent\":\"valor_entrada\",\n",
    "                            \"valor_Sai\":\"valor_saida\"}, axis=\"columns\").fillna(0)\n",
    "# evaluating daily results\n",
    "agg_data[\"resultado_quantidade\"] = agg_data[\"quantidade_entrada\"] - agg_data[\"quantidade_saida\"]\n",
    "agg_data[\"resultado_valor\"] = agg_data[\"valor_entrada\"] - agg_data[\"valor_saida\"]\n",
    "\n",
    "# merging with stock evolution grid to prevent missing dates\n",
    "agg_data = stock_evolution.merge(agg_data, on=[\"item\", \"data_lancamento\"]).fillna(0).reset_index(drop=True)"
   ]
  },
  {
   "cell_type": "markdown",
   "metadata": {},
   "source": [
    "## 5. Soma acumulada\n",
    "\n",
    "Após o cálculo do resultado diário, os resultados serão acumulados, a fim de obter o saldo do final do dia. A partir do saldo do final do dia é possível obter também o saldo inicial do dia, que é o saldo final do dia anterior."
   ]
  },
  {
   "cell_type": "code",
   "execution_count": 7,
   "metadata": {},
   "outputs": [],
   "source": [
    "# evaluating cummulative balance\n",
    "cum_data = agg_data.groupby(by=['item','data_lancamento'])\\\n",
    "                   .agg({\"resultado_quantidade\":\"sum\", \"resultado_valor\":\"sum\"})\\\n",
    "                   .groupby(level=[0])\\\n",
    "                   .cumsum()\\\n",
    "                   .reset_index()\\\n",
    "                   .rename({\"resultado_quantidade\":\"saldo_final_quantidade\", \n",
    "                            \"resultado_valor\":\"saldo_final_valor\"}, axis=\"columns\")\n",
    "\n",
    "# merging cummulative in main table\n",
    "final_data = agg_data.merge(cum_data, on=['item','data_lancamento']).sort_values(['item','data_lancamento'])  \n",
    "final_data[\"saldo_inicial_quantidade\"] = 0\n",
    "final_data[\"saldo_inicial_valor\"] = 0\n",
    "final_data[\"saldo_inicial_quantidade\"] = [None] + final_data[\"saldo_final_quantidade\"].iloc[:-1].tolist()\n",
    "final_data[\"saldo_inicial_valor\"] = [None] + final_data[\"saldo_final_valor\"].iloc[:-1].tolist()\n",
    "final_data = final_data[final_data[\"data_lancamento\"] != stock_ref_date].reset_index(drop=True)\n",
    "final_data = final_data[[\"item\",\"data_lancamento\",\n",
    "                         \"quantidade_entrada\",\"valor_entrada\",\n",
    "                         \"quantidade_saida\",\"valor_saida\",\n",
    "                         \"saldo_inicial_quantidade\",\"saldo_inicial_valor\",\n",
    "                         \"saldo_final_quantidade\",\"saldo_final_valor\"]]\\\n",
    "                        .sort_values(['data_lancamento','item'])\\\n",
    "                        .reset_index(drop=True)"
   ]
  },
  {
   "cell_type": "markdown",
   "metadata": {},
   "source": [
    "## 6. Verificação e armazenamento\n",
    "\n",
    "Após o cálculo do balanço diário, é feita uma verificação com o saldo final registrado na tabela de saldo. Como esperado alguns erros de cálculo podem acontecer (ordem de $10^{-8}~10^{-11}$), por isto verificamos se existe algum erro maior do que $10^{-3}$.\n",
    "\n",
    "O resultado final é salvo na tabela \"BalncITEM.xlsx\""
   ]
  },
  {
   "cell_type": "code",
   "execution_count": 8,
   "metadata": {},
   "outputs": [
    {
     "name": "stdout",
     "output_type": "stream",
     "text": [
      "There are 0 wrong quantities in final date balance.\n",
      "There are 0 wrong values in final date balance.\n"
     ]
    }
   ],
   "source": [
    "# getting final balance\n",
    "last_mvto = sldo[[\"item\",\"data_final\",\"qtd_final\",\"valor_final\"]]\\\n",
    "                       .rename({\"data_final\":\"data_lancamento\"}, axis=\"columns\").copy()\n",
    "# filter final balance from movement table\n",
    "ft = final_data[\"data_lancamento\"] == end_date\n",
    "check_result = last_mvto.merge(final_data[ft], on=[\"item\",\"data_lancamento\"])\\\n",
    "                [[\"item\",\"qtd_final\",\"valor_final\",\"saldo_final_quantidade\",\"saldo_final_valor\"]]\n",
    "# check if values and quantities are equals\n",
    "check_result[\"check_qtdd\"] = abs(check_result[\"qtd_final\"] - check_result[\"saldo_final_quantidade\"]) < 1e-3\n",
    "check_result[\"check_value\"] = abs(check_result[\"valor_final\"] - check_result[\"saldo_final_valor\"]) < 1e-3\n",
    "# count wrong results\n",
    "wrong_qtt = check_result[\"check_qtdd\"].sum() - len(check_result[\"check_qtdd\"])\n",
    "wrong_vl = check_result[\"check_value\"].sum() - len(check_result[\"check_value\"])\n",
    "# print summary\n",
    "print(\"There are {} wrong quantities in final date balance.\".format(wrong_qtt))\n",
    "print(\"There are {} wrong values in final date balance.\".format(wrong_vl))\n",
    "\n",
    "# save final table\n",
    "final_data.to_excel(\"BalncITEM.xlsx\")"
   ]
  }
 ],
 "metadata": {
  "kernelspec": {
   "display_name": "Python 3",
   "language": "python",
   "name": "python3"
  }
 },
 "nbformat": 4,
 "nbformat_minor": 2
}
